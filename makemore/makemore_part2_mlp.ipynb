{
 "cells": [
  {
   "cell_type": "markdown",
   "metadata": {},
   "source": [
    "# Makemore: MLP\n",
    "- Reference:\n",
    "\t- https://www.youtube.com/watch?v=TCH_1BHY58I&list=PLAqhIrjkxbuWI23v9cThsA9GvCAUhRvKZ&index=3\n",
    "\t- https://github.com/karpathy/nn-zero-to-hero/blob/master/lectures/makemore/makemore_part2_mlp.ipynb\n",
    "\n",
    "![](./AI-temp-1.png)"
   ]
  },
  {
   "cell_type": "code",
   "execution_count": 1,
   "metadata": {},
   "outputs": [],
   "source": [
    "import torch\n",
    "import torch.nn.functional as F\n",
    "import matplotlib.pyplot as plt # for making figures\n",
    "%matplotlib inline"
   ]
  },
  {
   "cell_type": "code",
   "execution_count": 2,
   "metadata": {},
   "outputs": [
    {
     "data": {
      "text/plain": [
       "['emma', 'olivia', 'ava', 'isabella', 'sophia', 'charlotte', 'mia', 'amelia']"
      ]
     },
     "execution_count": 2,
     "metadata": {},
     "output_type": "execute_result"
    }
   ],
   "source": [
    "# read in all the words\n",
    "words = open('names.txt', 'r').read().splitlines()\n",
    "words[:8]"
   ]
  },
  {
   "cell_type": "code",
   "execution_count": 3,
   "metadata": {},
   "outputs": [
    {
     "data": {
      "text/plain": [
       "32033"
      ]
     },
     "execution_count": 3,
     "metadata": {},
     "output_type": "execute_result"
    }
   ],
   "source": [
    "len(words)"
   ]
  },
  {
   "cell_type": "code",
   "execution_count": 4,
   "metadata": {},
   "outputs": [
    {
     "name": "stdout",
     "output_type": "stream",
     "text": [
      "chars:  ['a', 'b', 'c', 'd', 'e', 'f', 'g', 'h', 'i', 'j', 'k', 'l', 'm', 'n', 'o', 'p', 'q', 'r', 's', 't', 'u', 'v', 'w', 'x', 'y', 'z']\n",
      "stoi:  {'a': 1, 'b': 2, 'c': 3, 'd': 4, 'e': 5, 'f': 6, 'g': 7, 'h': 8, 'i': 9, 'j': 10, 'k': 11, 'l': 12, 'm': 13, 'n': 14, 'o': 15, 'p': 16, 'q': 17, 'r': 18, 's': 19, 't': 20, 'u': 21, 'v': 22, 'w': 23, 'x': 24, 'y': 25, 'z': 26, '.': 0}\n",
      "itos:  {1: 'a', 2: 'b', 3: 'c', 4: 'd', 5: 'e', 6: 'f', 7: 'g', 8: 'h', 9: 'i', 10: 'j', 11: 'k', 12: 'l', 13: 'm', 14: 'n', 15: 'o', 16: 'p', 17: 'q', 18: 'r', 19: 's', 20: 't', 21: 'u', 22: 'v', 23: 'w', 24: 'x', 25: 'y', 26: 'z', 0: '.'}\n"
     ]
    }
   ],
   "source": [
    "# build the vocabulary of characters and mappings to/from integers\n",
    "chars = sorted(list(set(''.join(words))))\n",
    "print(\"chars: \", chars)\n",
    "\n",
    "stoi = {s:i+1 for i,s in enumerate(chars)}\n",
    "stoi['.'] = 0\n",
    "itos = {i:s for s,i in stoi.items()}\n",
    "\n",
    "print(\"stoi: \", stoi)\n",
    "print(\"itos: \", itos)"
   ]
  },
  {
   "cell_type": "code",
   "execution_count": 5,
   "metadata": {},
   "outputs": [],
   "source": [
    "# build the dataset\n",
    "\n",
    "block_size = 3 # context length: how many characters do we take to predict the next one?\n",
    "X, Y = [], []\n",
    "for w in words:\n",
    "  \n",
    "  #print(w)\n",
    "  context = [0] * block_size\n",
    "  for ch in w + '.':\n",
    "    ix = stoi[ch]\n",
    "    X.append(context)\n",
    "    Y.append(ix)\n",
    "    #print(''.join(itos[i] for i in context), '--->', itos[ix])\n",
    "    context = context[1:] + [ix] # crop and append\n",
    "  \n",
    "X = torch.tensor(X)\n",
    "Y = torch.tensor(Y)"
   ]
  },
  {
   "cell_type": "code",
   "execution_count": 6,
   "metadata": {},
   "outputs": [
    {
     "name": "stdout",
     "output_type": "stream",
     "text": [
      "X.shape:  torch.Size([228146, 3])\n",
      "X.dtype:  torch.int64\n",
      "X:  tensor([[ 0,  0,  0],\n",
      "        [ 0,  0,  5],\n",
      "        [ 0,  5, 13],\n",
      "        ...,\n",
      "        [26, 26, 25],\n",
      "        [26, 25, 26],\n",
      "        [25, 26, 24]])\n",
      "\n",
      "Y.dtype:  torch.int64\n",
      "Y.shape:  torch.Size([228146])\n",
      "Y:  tensor([ 5, 13, 13,  ..., 26, 24,  0])\n",
      "\n",
      "X[i](input):tensor([0, 0, 0]) --> Y[i](label/ideal_output):5\n",
      "X[i](input):['.', '.', '.'] --> Y[i](label/ideal_output):e\n",
      "X[i](input):tensor([0, 0, 5]) --> Y[i](label/ideal_output):13\n",
      "X[i](input):['.', '.', 'e'] --> Y[i](label/ideal_output):m\n",
      "X[i](input):tensor([ 0,  5, 13]) --> Y[i](label/ideal_output):13\n",
      "X[i](input):['.', 'e', 'm'] --> Y[i](label/ideal_output):m\n",
      "X[i](input):tensor([ 5, 13, 13]) --> Y[i](label/ideal_output):1\n",
      "X[i](input):['e', 'm', 'm'] --> Y[i](label/ideal_output):a\n",
      "X[i](input):tensor([13, 13,  1]) --> Y[i](label/ideal_output):0\n",
      "X[i](input):['m', 'm', 'a'] --> Y[i](label/ideal_output):.\n",
      "X[i](input):tensor([0, 0, 0]) --> Y[i](label/ideal_output):15\n",
      "X[i](input):['.', '.', '.'] --> Y[i](label/ideal_output):o\n",
      "X[i](input):tensor([ 0,  0, 15]) --> Y[i](label/ideal_output):12\n",
      "X[i](input):['.', '.', 'o'] --> Y[i](label/ideal_output):l\n",
      "X[i](input):tensor([ 0, 15, 12]) --> Y[i](label/ideal_output):9\n",
      "X[i](input):['.', 'o', 'l'] --> Y[i](label/ideal_output):i\n",
      "X[i](input):tensor([15, 12,  9]) --> Y[i](label/ideal_output):22\n",
      "X[i](input):['o', 'l', 'i'] --> Y[i](label/ideal_output):v\n",
      "X[i](input):tensor([12,  9, 22]) --> Y[i](label/ideal_output):9\n",
      "X[i](input):['l', 'i', 'v'] --> Y[i](label/ideal_output):i\n"
     ]
    }
   ],
   "source": [
    "print(\"X.shape: \", X.shape)\n",
    "print(\"X.dtype: \", X.dtype)\n",
    "print(\"X: \", X)\n",
    "\n",
    "print()\n",
    "print(\"Y.dtype: \", Y.dtype)\n",
    "print(\"Y.shape: \", Y.shape)\n",
    "print(\"Y: \", Y)\n",
    "\n",
    "print()\n",
    "for i in range(10):\n",
    "  strlist = [itos[ix] for ix in X[i].tolist()]\n",
    "  print(f\"X[i](input):{X[i]} --> Y[i](label/ideal_output):{Y[i]}\")\n",
    "  print(f\"X[i](input):{strlist} --> Y[i](label/ideal_output):{itos[Y[i].item()]}\")"
   ]
  },
  {
   "cell_type": "code",
   "execution_count": 7,
   "metadata": {},
   "outputs": [
    {
     "name": "stdout",
     "output_type": "stream",
     "text": [
      "torch.Size([182625, 3]) torch.Size([182625])\n",
      "torch.Size([22655, 3]) torch.Size([22655])\n",
      "torch.Size([22866, 3]) torch.Size([22866])\n"
     ]
    }
   ],
   "source": [
    "# build the dataset\n",
    "block_size = 3 # context length: how many characters do we take to predict the next one?\n",
    "\n",
    "def build_dataset(words): \n",
    "  # X: The inputs to the neural-network\n",
    "\t# Y: The matrix Y contains the labels for each example within the matrix X \n",
    "  #    (the correct letter that comes after the letters in X). \n",
    "  X, Y = [], []\n",
    "  for w in words:\n",
    "\n",
    "    #print(w)\n",
    "    context = [0] * block_size # [0] * 3 = [0, 0, 0]\n",
    "    for ch in w + '.':\n",
    "      ix = stoi[ch]\n",
    "      X.append(context)\n",
    "      Y.append(ix)\n",
    "      #print(''.join(itos[i] for i in context), '--->', itos[ix])\n",
    "      context = context[1:] + [ix] # crop and append\n",
    "\n",
    "  X = torch.tensor(X)\n",
    "  Y = torch.tensor(Y)\n",
    "  print(X.shape, Y.shape)\n",
    "  return X, Y\n",
    "\n",
    "# Seperate the dataset into train(80%), dev(10%), and test(10%)\n",
    "# to avoid overfitting: https://www.youtube.com/watch?v=o3DztvnfAJg&ab_channel=NStatum\n",
    "import random\n",
    "random.seed(42)\n",
    "random.shuffle(words)\n",
    "n1 = int(0.8*len(words))\n",
    "n2 = int(0.9*len(words))\n",
    "\n",
    "Xtr, Ytr = build_dataset(words[:n1])\n",
    "Xdev, Ydev = build_dataset(words[n1:n2])\n",
    "Xte, Yte = build_dataset(words[n2:])\n"
   ]
  },
  {
   "cell_type": "code",
   "execution_count": 8,
   "metadata": {},
   "outputs": [],
   "source": [
    "C = torch.randn((27, 2))"
   ]
  },
  {
   "cell_type": "code",
   "execution_count": 9,
   "metadata": {},
   "outputs": [
    {
     "data": {
      "text/plain": [
       "torch.Size([228146, 3, 2])"
      ]
     },
     "execution_count": 9,
     "metadata": {},
     "output_type": "execute_result"
    }
   ],
   "source": [
    "emb = C[X]\n",
    "emb.shape"
   ]
  },
  {
   "cell_type": "code",
   "execution_count": 10,
   "metadata": {},
   "outputs": [],
   "source": [
    "W1 = torch.randn((6, 100))\n",
    "b1 = torch.randn(100)"
   ]
  },
  {
   "cell_type": "code",
   "execution_count": 11,
   "metadata": {},
   "outputs": [],
   "source": [
    "h = torch.tanh(emb.view(-1, 6) @ W1 + b1)"
   ]
  },
  {
   "cell_type": "code",
   "execution_count": 12,
   "metadata": {},
   "outputs": [
    {
     "data": {
      "text/plain": [
       "tensor([[-0.5345, -0.9670, -0.8198,  ...,  0.9666, -1.0000, -0.9929],\n",
       "        [-0.9999,  0.9999,  0.2244,  ...,  1.0000,  0.8141,  0.2499],\n",
       "        [-0.1211,  0.9236, -0.9970,  ..., -0.9995,  0.8765,  0.9883],\n",
       "        ...,\n",
       "        [ 0.9982, -0.9996,  1.0000,  ...,  0.5999,  0.9927, -0.9964],\n",
       "        [-0.5454,  0.7584,  1.0000,  ...,  0.7788,  0.9997, -0.8460],\n",
       "        [-0.3060,  0.2539,  0.9975,  ...,  0.9998,  1.0000, -0.9824]])"
      ]
     },
     "execution_count": 12,
     "metadata": {},
     "output_type": "execute_result"
    }
   ],
   "source": [
    "h"
   ]
  },
  {
   "cell_type": "code",
   "execution_count": 13,
   "metadata": {},
   "outputs": [
    {
     "data": {
      "text/plain": [
       "torch.Size([228146, 100])"
      ]
     },
     "execution_count": 13,
     "metadata": {},
     "output_type": "execute_result"
    }
   ],
   "source": [
    "h.shape"
   ]
  },
  {
   "cell_type": "code",
   "execution_count": 14,
   "metadata": {},
   "outputs": [],
   "source": [
    "W2 = torch.randn((100, 27))\n",
    "b2 = torch.randn(27)"
   ]
  },
  {
   "cell_type": "code",
   "execution_count": 15,
   "metadata": {},
   "outputs": [],
   "source": [
    "logits = h @ W2 + b2"
   ]
  },
  {
   "cell_type": "code",
   "execution_count": 16,
   "metadata": {},
   "outputs": [
    {
     "data": {
      "text/plain": [
       "torch.Size([228146, 27])"
      ]
     },
     "execution_count": 16,
     "metadata": {},
     "output_type": "execute_result"
    }
   ],
   "source": [
    "logits.shape"
   ]
  },
  {
   "cell_type": "code",
   "execution_count": 17,
   "metadata": {},
   "outputs": [],
   "source": [
    "counts = logits.exp()"
   ]
  },
  {
   "cell_type": "code",
   "execution_count": 18,
   "metadata": {},
   "outputs": [],
   "source": [
    "prob = counts / counts.sum(1, keepdims=True)"
   ]
  },
  {
   "cell_type": "code",
   "execution_count": 19,
   "metadata": {},
   "outputs": [
    {
     "name": "stdout",
     "output_type": "stream",
     "text": [
      "torch.Size([228146, 27])\n",
      "torch.Size([228146])\n",
      "228146\n"
     ]
    }
   ],
   "source": [
    "print(prob.shape)\n",
    "print(Y.shape)\n",
    "print(Y.size(0))"
   ]
  },
  {
   "cell_type": "code",
   "execution_count": 20,
   "metadata": {},
   "outputs": [
    {
     "name": "stdout",
     "output_type": "stream",
     "text": [
      "tensor([     0,      1,      2,  ..., 228143, 228144, 228145])\n",
      "tensor(14.8947)\n"
     ]
    }
   ],
   "source": [
    "arranged_tensor = torch.arange(Y.size(0))\n",
    "loss = -prob[arranged_tensor, Y].log().mean()\n",
    "print(arranged_tensor)\n",
    "print(loss)"
   ]
  },
  {
   "cell_type": "code",
   "execution_count": 21,
   "metadata": {},
   "outputs": [],
   "source": [
    "# ------------ now made respectable :) ---------------"
   ]
  },
  {
   "cell_type": "code",
   "execution_count": 22,
   "metadata": {},
   "outputs": [
    {
     "data": {
      "text/plain": [
       "(torch.Size([182625, 3]), torch.Size([182625]))"
      ]
     },
     "execution_count": 22,
     "metadata": {},
     "output_type": "execute_result"
    }
   ],
   "source": [
    "Xtr.shape, Ytr.shape # dataset"
   ]
  },
  {
   "cell_type": "code",
   "execution_count": 23,
   "metadata": {},
   "outputs": [],
   "source": [
    "g = torch.Generator().manual_seed(2147483647) # for reproducibility\n",
    "C = torch.randn((27, 10), generator=g) # Each letter has 10 dimensional embbeding\n",
    "\n",
    "# Hidden layer\n",
    "W1 = torch.randn((30, 200), generator=g)\n",
    "b1 = torch.randn(200, generator=g)\n",
    "\n",
    "# Output layer\n",
    "W2 = torch.randn((200, 27), generator=g)\n",
    "b2 = torch.randn(27, generator=g)\n",
    "\n",
    "parameters = [C, W1, b1, W2, b2]"
   ]
  },
  {
   "cell_type": "code",
   "execution_count": 24,
   "metadata": {},
   "outputs": [
    {
     "data": {
      "text/plain": [
       "11897"
      ]
     },
     "execution_count": 24,
     "metadata": {},
     "output_type": "execute_result"
    }
   ],
   "source": [
    "sum(p.nelement() for p in parameters) # number of parameters in total"
   ]
  },
  {
   "cell_type": "code",
   "execution_count": 25,
   "metadata": {},
   "outputs": [],
   "source": [
    "for p in parameters:\n",
    "  p.requires_grad = True"
   ]
  },
  {
   "cell_type": "code",
   "execution_count": 39,
   "metadata": {},
   "outputs": [
    {
     "name": "stdout",
     "output_type": "stream",
     "text": [
      "torch.Size([1000])\n",
      "torch.Size([1000])\n"
     ]
    },
    {
     "data": {
      "text/plain": [
       "[<matplotlib.lines.Line2D at 0x2a2949270d0>]"
      ]
     },
     "execution_count": 39,
     "metadata": {},
     "output_type": "execute_result"
    },
    {
     "data": {
      "image/png": "[encoded data removed]",
      "text/plain": [
       "<Figure size 640x480 with 1 Axes>"
      ]
     },
     "metadata": {},
     "output_type": "display_data"
    }
   ],
   "source": [
    "lre = torch.linspace(-3, 0, 1000)\n",
    "lrs = 10**lre\n",
    "print(lre.shape)\n",
    "print(lrs.shape)\n",
    "plt.plot(torch.arange(lre.size(0)), lre)\n",
    "plt.plot(torch.arange(lrs.size(0)), lrs)"
   ]
  },
  {
   "cell_type": "code",
   "execution_count": 27,
   "metadata": {},
   "outputs": [],
   "source": [
    "lri = []\n",
    "lossi = []\n",
    "stepi = []"
   ]
  },
  {
   "cell_type": "code",
   "execution_count": 28,
   "metadata": {},
   "outputs": [],
   "source": [
    "for i in range(200000):\n",
    "  \n",
    "  # minibatch construct\n",
    "  ix = torch.randint(0, Xtr.shape[0], (32,))\n",
    "  \n",
    "  # forward pass ###################################################\n",
    "  emb = C[Xtr[ix]] # (32, 3, 10)\n",
    "  \n",
    "  # The calculation of hidden layer #########\n",
    "\t#<emb.view(-1, 6) @ W1 + b1> is the same as\n",
    "\t\t#torch.cat(emb[:,0:],emb[:,1:],emb[:,2:], 1) # the 2nd param is the dimension\n",
    "\t#The number \"-1\" means telling pytorch to find the length in that dimension of the metrix automatically\n",
    "  h = torch.tanh(emb.view(-1, 30) @ W1 + b1) # (32, 200)\n",
    "  ###########################################\n",
    "  \n",
    "  # The calculation of output layer #########\n",
    "  logits = h @ W2 + b2 # (32, 27)\n",
    "  \n",
    "  # Calculate the negative log likelihood loss\n",
    "\t#counts = logits.exp()\n",
    "\t#prob = counts / counts.sum(1, keepdims=True)\n",
    "\t#loss = -prob[torch.arrange(len[Y.item()]),Y].log().mean()\n",
    "  loss = F.cross_entropy(logits, Ytr[ix])\n",
    "  ###########################################\n",
    "  ##################################################################\n",
    "  \n",
    "  # backward pass ##################################################\n",
    "  for p in parameters:\n",
    "    p.grad = None\n",
    "  loss.backward()\n",
    "  ##################################################################\n",
    "  \n",
    "  # update (take a step in the direction of the highest gradient descent)\n",
    "  #(learning rate) lr = lrs[i]\n",
    "  lr = 0.1 if i < 100000 else 0.01\n",
    "  for p in parameters:\n",
    "    p.data += -lr * p.grad\n",
    "\n",
    "  # track stats\n",
    "  #lri.append(lre[i])\n",
    "  stepi.append(i)\n",
    "  lossi.append(loss.log10().item())\n",
    "\n",
    "#print(loss.item())"
   ]
  },
  {
   "cell_type": "code",
   "execution_count": 29,
   "metadata": {},
   "outputs": [
    {
     "data": {
      "text/plain": [
       "[<matplotlib.lines.Line2D at 0x2a28fb78210>]"
      ]
     },
     "execution_count": 29,
     "metadata": {},
     "output_type": "execute_result"
    },
    {
     "data": {
      "image/png": "[encoded data removed]",
      "text/plain": [
       "<Figure size 640x480 with 1 Axes>"
      ]
     },
     "metadata": {},
     "output_type": "display_data"
    }
   ],
   "source": [
    "plt.plot(stepi, lossi)"
   ]
  },
  {
   "cell_type": "code",
   "execution_count": null,
   "metadata": {},
   "outputs": [],
   "source": [
    "# Validate the training model to see if it is overfitting"
   ]
  },
  {
   "cell_type": "code",
   "execution_count": 47,
   "metadata": {},
   "outputs": [
    {
     "name": "stdout",
     "output_type": "stream",
     "text": [
      "C:  torch.Size([27, 10])\n",
      "Xtr:  torch.Size([182625, 3])\n",
      "Xdev:  torch.Size([22655, 3])\n"
     ]
    }
   ],
   "source": [
    "print(\"C: \",C.shape) # C = torch.randn((27, 10), generator=g)\n",
    "print(\"Xtr: \",Xtr.shape) # 80% of the dataset\n",
    "print(\"Xdev: \",Xdev.shape) # 10% of the dataset"
   ]
  },
  {
   "cell_type": "code",
   "execution_count": 48,
   "metadata": {},
   "outputs": [
    {
     "name": "stdout",
     "output_type": "stream",
     "text": [
      "Xtr:  tensor([[ 0,  0,  0],\n",
      "        [ 0,  0, 25],\n",
      "        [ 0, 25, 21],\n",
      "        ...,\n",
      "        [15, 12,  4],\n",
      "        [12,  4,  1],\n",
      "        [ 4,  1, 14]])\n",
      "Xdev:  tensor([[ 0,  0,  0],\n",
      "        [ 0,  0,  1],\n",
      "        [ 0,  1, 13],\n",
      "        ...,\n",
      "        [ 8,  1, 25],\n",
      "        [ 1, 25, 12],\n",
      "        [25, 12,  1]])\n"
     ]
    }
   ],
   "source": [
    "print(\"Xtr: \",Xtr) # 80% of the dataset\n",
    "print(\"Xdev: \",Xdev) # 10% of the dataset"
   ]
  },
  {
   "cell_type": "code",
   "execution_count": 44,
   "metadata": {},
   "outputs": [
    {
     "data": {
      "text/plain": [
       "tensor(2.1200, grad_fn=<NllLossBackward0>)"
      ]
     },
     "execution_count": 44,
     "metadata": {},
     "output_type": "execute_result"
    }
   ],
   "source": [
    "emb = C[Xtr] # (32, 3, 2)\n",
    "h = torch.tanh(emb.view(-1, 30) @ W1 + b1) # (32, 100)\n",
    "logits = h @ W2 + b2 # (32, 27)\n",
    "loss = F.cross_entropy(logits, Ytr)\n",
    "loss"
   ]
  },
  {
   "cell_type": "code",
   "execution_count": 31,
   "metadata": {},
   "outputs": [
    {
     "data": {
      "text/plain": [
       "tensor(2.1551, grad_fn=<NllLossBackward0>)"
      ]
     },
     "execution_count": 31,
     "metadata": {},
     "output_type": "execute_result"
    }
   ],
   "source": [
    "emb = C[Xdev] # (32, 3, 2)\n",
    "h = torch.tanh(emb.view(-1, 30) @ W1 + b1) # (32, 100)\n",
    "logits = h @ W2 + b2 # (32, 27)\n",
    "loss = F.cross_entropy(logits, Ydev)\n",
    "loss"
   ]
  },
  {
   "cell_type": "code",
   "execution_count": 32,
   "metadata": {},
   "outputs": [
    {
     "data": {
      "image/png": "[encoded data removed]",
      "text/plain": [
       "<Figure size 800x800 with 1 Axes>"
      ]
     },
     "metadata": {},
     "output_type": "display_data"
    }
   ],
   "source": [
    "# visualize dimensions 0 and 1 of the embedding matrix C for all characters\n",
    "plt.figure(figsize=(8,8))\n",
    "plt.scatter(C[:,0].data, C[:,1].data, s=200)\n",
    "for i in range(C.shape[0]):\n",
    "    plt.text(C[i,0].item(), C[i,1].item(), itos[i], ha=\"center\", va=\"center\", color='white')\n",
    "plt.grid('minor')"
   ]
  },
  {
   "cell_type": "code",
   "execution_count": 33,
   "metadata": {},
   "outputs": [],
   "source": [
    "# training split, dev/validation split, test split\n",
    "# 80%, 10%, 10%\n",
    "# to avoid overfitting: https://www.youtube.com/watch?v=o3DztvnfAJg&ab_channel=NStatum"
   ]
  },
  {
   "cell_type": "code",
   "execution_count": 34,
   "metadata": {},
   "outputs": [
    {
     "data": {
      "text/plain": [
       "torch.Size([1, 3, 10])"
      ]
     },
     "execution_count": 34,
     "metadata": {},
     "output_type": "execute_result"
    }
   ],
   "source": [
    "context = [0] * block_size\n",
    "C[torch.tensor([context])].shape"
   ]
  },
  {
   "cell_type": "code",
   "execution_count": 35,
   "metadata": {},
   "outputs": [
    {
     "name": "stdout",
     "output_type": "stream",
     "text": [
      "mora.\n",
      "kayah.\n",
      "see.\n",
      "mel.\n",
      "rylla.\n",
      "emmrettep.\n",
      "leg.\n",
      "adee.\n",
      "daeliigeli.\n",
      "jenleigh.\n",
      "sananarielle.\n",
      "malaia.\n",
      "noshubergiagriel.\n",
      "kendreelle.\n",
      "xithairous.\n",
      "kaven.\n",
      "kylene.\n",
      "els.\n",
      "kaysh.\n",
      "skeyah.\n"
     ]
    }
   ],
   "source": [
    "\n",
    "\n",
    "# sample from the model\n",
    "g = torch.Generator().manual_seed(2147483647 + 10)\n",
    "\n",
    "for _ in range(20):\n",
    "    \n",
    "    out = []\n",
    "    context = [0] * block_size # initialize with all ...\n",
    "    while True:\n",
    "      emb = C[torch.tensor([context])] # (1,block_size,d)\n",
    "      h = torch.tanh(emb.view(1, -1) @ W1 + b1)\n",
    "      logits = h @ W2 + b2\n",
    "      probs = F.softmax(logits, dim=1)\n",
    "      ix = torch.multinomial(probs, num_samples=1, generator=g).item()\n",
    "      context = context[1:] + [ix]\n",
    "      out.append(ix)\n",
    "      if ix == 0:\n",
    "        break\n",
    "    \n",
    "    print(''.join(itos[i] for i in out))"
   ]
  },
  {
   "cell_type": "code",
   "execution_count": null,
   "metadata": {},
   "outputs": [],
   "source": []
  }
 ],
 "metadata": {
  "kernelspec": {
   "display_name": "Python 3",
   "language": "python",
   "name": "python3"
  },
  "language_info": {
   "codemirror_mode": {
    "name": "ipython",
    "version": 3
   },
   "file_extension": ".py",
   "mimetype": "text/x-python",
   "name": "python",
   "nbconvert_exporter": "python",
   "pygments_lexer": "ipython3",
   "version": "3.11.0"
  }
 },
 "nbformat": 4,
 "nbformat_minor": 4
}
