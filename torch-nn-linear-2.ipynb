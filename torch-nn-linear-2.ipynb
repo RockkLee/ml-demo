{
 "cells": [
  {
   "cell_type": "markdown",
   "metadata": {},
   "source": [
    "# Understanding `torch.nn.Linear` in PyTorch\n",
    "\n",
    "- `torch.nn.Linear` is a module that applies a linear transformation to the incoming data:\n",
    "    - `Y = X A^T + b`."
   ]
  },
  {
   "cell_type": "markdown",
   "metadata": {},
   "source": [
    "## Linear layer with auto generated parameters"
   ]
  },
  {
   "cell_type": "code",
   "execution_count": 1,
   "metadata": {},
   "outputs": [
    {
     "name": "stdout",
     "output_type": "stream",
     "text": [
      "# Linear layer with auto generated parameters:\n",
      "Linear(in_features=3, out_features=2, bias=True)\n",
      "---------\n",
      "weight: torch.Size([2, 3])\n",
      "Parameter containing:\n",
      "tensor([[ 0.0737, -0.1006,  0.1175],\n",
      "        [ 0.2915,  0.2551, -0.0987]], requires_grad=True)\n",
      "---------\n",
      "---------\n",
      "bias: torch.Size([2])\n",
      "Parameter containing:\n",
      "tensor([-0.2243,  0.0985], requires_grad=True)\n",
      "---------\n",
      "\n",
      "\n",
      "tensor([[0.0006, 0.6041]], grad_fn=<AddmmBackward0>)\n"
     ]
    }
   ],
   "source": [
    "import torch\n",
    "import torch.nn as nn\n",
    "\n",
    "# nn.Linear(in_features, # number of input features\n",
    "#           out_features,# number of output features\n",
    "#           bias)        # whether to add a bias term\n",
    "\n",
    "# Linear layer with auto generated parameters #####################################\n",
    "print(\"# Linear layer with auto generated parameters:\")\n",
    "\n",
    "# Create a linear layer with 3 input features and 2 output features\n",
    "linear_layer_auto_gen = nn.Linear(in_features=3, out_features=2)\n",
    "print(linear_layer_auto_gen)\n",
    "\n",
    "for name, param in linear_layer_auto_gen.named_parameters():\n",
    "    print(\"---------\")\n",
    "    print(f\"{name}: {param.shape}\")\n",
    "    print(param)\n",
    "    print(\"---------\")\n",
    "###################################################################################\n",
    "\n",
    "print(\"\\n\")\n",
    "input = torch.tensor([[1.0, 2.0, 3.0]])\n",
    "output = linear_layer_auto_gen(input)\n",
    "print(output)\n"
   ]
  },
  {
   "cell_type": "markdown",
   "metadata": {},
   "source": [
    "## Linear layer with specified parameters"
   ]
  },
  {
   "cell_type": "code",
   "execution_count": 2,
   "metadata": {},
   "outputs": [
    {
     "name": "stdout",
     "output_type": "stream",
     "text": [
      "# Linear layer with specified parameters:\n",
      "Linear(in_features=3, out_features=2, bias=True)\n",
      "---------\n",
      "weight: torch.Size([2, 3])\n",
      "Parameter containing:\n",
      "tensor([[1., 2., 3.],\n",
      "        [4., 5., 6.]], requires_grad=True)\n",
      "---------\n",
      "---------\n",
      "bias: torch.Size([2])\n",
      "Parameter containing:\n",
      "tensor([1., 2.], requires_grad=True)\n",
      "---------\n",
      "\n",
      "\n",
      "tensor([[15., 34.]], grad_fn=<AddmmBackward0>)\n"
     ]
    }
   ],
   "source": [
    "import torch\n",
    "import torch.nn as nn\n",
    "\n",
    "# nn.Linear(in_features, # number of input features\n",
    "#           out_features,# number of output features\n",
    "#           bias)        # whether to add a bias term\n",
    "\n",
    "# Linear layer with specified parameters ##########################################\n",
    "print(\"# Linear layer with specified parameters:\")\n",
    "\n",
    "# Create a linear layer with 3 input features and 2 output features\n",
    "linear_layer= nn.Linear(in_features=3, out_features=2)\n",
    "# Specify the weight and bias\n",
    "# Weight: \n",
    "# [[1.0, 2.0, 3.0], \n",
    "#  [4.0, 5.0, 6.0]]\n",
    "linear_layer.weight = nn.Parameter(torch.tensor([[1.0, 2.0, 3.0], [4.0, 5.0, 6.0]]))\n",
    "# Bias: [1.0, 2.0]\n",
    "linear_layer.bias = nn.Parameter(torch.tensor([1.0, 2.0]))\n",
    "print(linear_layer)\n",
    "\n",
    "for name, param in linear_layer.named_parameters():\n",
    "    print(\"---------\")\n",
    "    print(f\"{name}: {param.shape}\")\n",
    "    print(param)\n",
    "    print(\"---------\")\n",
    "###################################################################################\n",
    "\n",
    "print(\"\\n\")\n",
    "input = torch.tensor([[1.0, 2.0, 3.0]])\n",
    "output = linear_layer(input)\n",
    "print(output)\n",
    "# Handwrite the calculations:\n",
    "# [[1., 2., 3.],\n",
    "#  [4., 5., 6.]] * [1.0, 2.0, 3.0] + [1.0, 2.0]\n"
   ]
  }
 ],
 "metadata": {
  "kernelspec": {
   "display_name": "Python 3 (ipykernel)",
   "language": "python",
   "name": "python3"
  },
  "language_info": {
   "codemirror_mode": {
    "name": "ipython",
    "version": 3
   },
   "file_extension": ".py",
   "mimetype": "text/x-python",
   "name": "python",
   "nbconvert_exporter": "python",
   "pygments_lexer": "ipython3",
   "version": "3.11.0"
  }
 },
 "nbformat": 4,
 "nbformat_minor": 4
}
