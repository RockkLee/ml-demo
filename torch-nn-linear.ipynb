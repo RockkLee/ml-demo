{
  "cells": [
    {
      "cell_type": "markdown",
      "metadata": {},
      "source": [
        "# Understanding `torch.nn.Linear` in PyTorch\n",
        "\n",
        "`torch.nn.Linear` is a module that applies a linear transformation to the incoming data: `y = xA^T + b`."
      ]
    },
    {
      "cell_type": "markdown",
      "metadata": {},
      "source": [
        "## Importing the Necessary Libraries"
      ]
    },
    {
      "cell_type": "code",
      "execution_count": 1,
      "metadata": {},
      "outputs": [],
      "source": [
        "import torch\n",
        "import torch.nn as nn"
      ]
    },
    {
      "cell_type": "markdown",
      "metadata": {},
      "source": [
        "## Creating a Linear Layer\n",
        "\n",
        "To create a linear layer in PyTorch, you need to specify the number of input features and the number of output features. Here is an example:"
      ]
    },
    {
      "cell_type": "code",
      "execution_count": 2,
      "metadata": {},
      "outputs": [
        {
          "name": "stdout",
          "output_type": "stream",
          "text": [
            "Linear(in_features=3, out_features=2, bias=True)\n"
          ]
        }
      ],
      "source": [
        "# Create a linear layer with 3 input features and 2 output features\n",
        "linear_layer = nn.Linear(in_features=3, out_features=2)\n",
        "print(linear_layer)"
      ]
    },
    {
      "cell_type": "markdown",
      "metadata": {},
      "source": [
        "## Understanding the Parameters\n",
        "\n",
        "The linear layer has two main parameters:\n",
        "- `in_features`: The number of input features.\n",
        "- `out_features`: The number of output features.\n",
        "\n",
        "Additionally, the linear layer has two learnable parameters:\n",
        "- `weight`: The weight matrix of shape `(out_features, in_features)`.\n",
        "- `bias`: The bias vector of shape `(out_features)`."
      ]
    },
    {
      "cell_type": "markdown",
      "metadata": {},
      "source": [
        "## Forward Pass Through the Linear Layer\n",
        "\n",
        "To perform a forward pass through the linear layer, you need to pass a tensor with the appropriate shape (i.e., the number of columns should match the `in_features` of the linear layer). Here is an example:"
      ]
    },
    {
      "cell_type": "code",
      "execution_count": 3,
      "metadata": {},
      "outputs": [
        {
          "name": "stdout",
          "output_type": "stream",
          "text": [
            "Input Tensor: tensor([[1., 2., 3.]])\n",
            "Output Tensor: tensor([[-1.1865, -1.0693]], grad_fn=<AddmmBackward0>)\n"
          ]
        }
      ],
      "source": [
        "# Create a sample input tensor with 3 features\n",
        "input_tensor = torch.tensor([[1.0, 2.0, 3.0]])\n",
        "print(\"Input Tensor:\", input_tensor)\n",
        "\n",
        "# Perform a forward pass\n",
        "output_tensor = linear_layer(input_tensor)\n",
        "print(\"Output Tensor:\", output_tensor)"
      ]
    },
    {
      "cell_type": "markdown",
      "metadata": {},
      "source": [
        "## Accessing the Learnable Parameters\n",
        "\n",
        "You can access the learnable parameters of the linear layer using the `.weight` and `.bias` attributes. Here is an example:"
      ]
    },
    {
      "cell_type": "code",
      "execution_count": null,
      "metadata": {},
      "outputs": [],
      "source": [
        "# Access the weight matrix\n",
        "print(\"Weight Matrix:\", linear_layer.weight)\n",
        "\n",
        "# Access the bias vector\n",
        "print(\"Bias Vector:\", linear_layer.bias)"
      ]
    },
    {
      "cell_type": "markdown",
      "metadata": {},
      "source": [
        "## Initializing the Weights and Biases\n",
        "\n",
        "By default, PyTorch initializes the weights and biases of the linear layer. However, you can manually initialize them if needed. Here is an example:"
      ]
    },
    {
      "cell_type": "code",
      "execution_count": null,
      "metadata": {},
      "outputs": [],
      "source": [
        "# Initialize the weights and biases manually\n",
        "nn.init.normal_(linear_layer.weight, mean=0.0, std=0.02)\n",
        "nn.init.constant_(linear_layer.bias, 0.0)\n",
        "\n",
        "# Verify the initialization\n",
        "print(\"Initialized Weight Matrix:\", linear_layer.weight)\n",
        "print(\"Initialized Bias Vector:\", linear_layer.bias)"
      ]
    },
    {
      "cell_type": "markdown",
      "metadata": {},
      "source": [
        "## Example: Using `torch.nn.Linear` in a Neural Network\n",
        "\n",
        "Here is an example of using `torch.nn.Linear` as part of a simple neural network:"
      ]
    },
    {
      "cell_type": "code",
      "execution_count": null,
      "metadata": {},
      "outputs": [],
      "source": [
        "class SimpleNeuralNetwork(nn.Module):\n",
        "    def __init__(self):\n",
        "        super(SimpleNeuralNetwork, self).__init__()\n",
        "        self.fc1 = nn.Linear(3, 5)\n",
        "        self.fc2 = nn.Linear(5, 2)\n",
        "    \n",
        "    def forward(self, x):\n",
        "        x = torch.relu(self.fc1(x))\n",
        "        x = self.fc2(x)\n",
        "        return x\n",
        "\n",
        "# Create an instance of the neural network\n",
        "model = SimpleNeuralNetwork()\n",
        "print(model)\n",
        "\n",
        "# Create a sample input tensor\n",
        "input_tensor = torch.tensor([[1.0, 2.0, 3.0]])\n",
        "\n",
        "# Perform a forward pass\n",
        "output_tensor = model(input_tensor)\n",
        "print(\"Output Tensor:\", output_tensor)"
      ]
    },
    {
      "cell_type": "markdown",
      "metadata": {},
      "source": [
        "In this example, the `SimpleNeuralNetwork` class defines a neural network with two linear layers. The forward pass applies a ReLU activation function after the first linear layer."
      ]
    }
  ],
  "metadata": {
    "kernelspec": {
      "display_name": "Python 3",
      "language": "python",
      "name": "python3"
    },
    "language_info": {
      "codemirror_mode": {
        "name": "ipython",
        "version": 3
      },
      "file_extension": ".py",
      "mimetype": "text/x-python",
      "name": "python",
      "nbconvert_exporter": "python",
      "pygments_lexer": "ipython3",
      "version": "3.11.0"
    }
  },
  "nbformat": 4,
  "nbformat_minor": 4
}
